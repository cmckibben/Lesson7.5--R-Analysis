{
 "cells": [
  {
   "cell_type": "markdown",
   "id": "16dcab5c-7bbf-464e-a5af-49c14564c412",
   "metadata": {},
   "source": [
    "# Graphs of Runtime for Searching"
   ]
  },
  {
   "cell_type": "markdown",
   "id": "866017c6-9881-447e-8e9e-5baf0b88e350",
   "metadata": {},
   "source": [
    "## Setup and loading of csv"
   ]
  },
  {
   "cell_type": "code",
   "execution_count": 2,
   "outputs": [
    {
     "ename": "SyntaxError",
     "evalue": "invalid syntax (654294289.py, line 9)",
     "output_type": "error",
     "traceback": [
      "\u001B[1;36m  Cell \u001B[1;32mIn[2], line 9\u001B[1;36m\u001B[0m\n\u001B[1;33m    read.tables <- function(files.names,...) {\u001B[0m\n\u001B[1;37m                                             ^\u001B[0m\n\u001B[1;31mSyntaxError\u001B[0m\u001B[1;31m:\u001B[0m invalid syntax\n"
     ]
    }
   ],
   "source": [
    "#install.packages(\"RColorBrewer\")\n",
    "#install.packages(\"packHV\")\n",
    "library(\"RColorBrewer\")\n",
    "library(\"packHV\")\n",
    "library(\"plyr\")\n",
    "library(\"dplyr\")\n",
    "library(\"readr\")\n",
    "library(\"purrr\")\n",
    "read.tables <- function(files.names,...) {\n",
    "  require(plyr)\n",
    "ldply(files.names,function(fn) data.frame(Filename=fn, read.csv(fn, ...)))\n",
    "}\n",
    "colors = brewer.pal(n = 9, name = \"Paired\")\n",
    "download.file(\"https://raw.githubusercontent.com/cmckibben/Lesson7.5-Cpp-Solution/master/runtimes.csv\",\"cruntime.csv\")\n",
    "download.file(\"https://raw.githubusercontent.com/cmckibben/Lesson7.5--Python-Solution/master/runtimes.csv\",\"pruntime.csv\")\n",
    "download.file(\"https://raw.githubusercontent.com/cmckibben/Lesson7.5--Java-Solution/master/runtimes.csv\",\"jruntime.csv\")\n",
    "temp <- list.files(path=\".\",pattern=\"*.csv\", recursive=TRUE,full.names = TRUE) %>%\n",
    "lapply(read_csv) %>%\n",
    "reduce(full_join,by=\"Run\")"
   ],
   "metadata": {
    "collapsed": false,
    "ExecuteTime": {
     "end_time": "2023-12-06T14:12:49.320076200Z",
     "start_time": "2023-12-06T14:12:49.276071100Z"
    }
   },
   "id": "4cedceb538553872"
  },
  {
   "cell_type": "markdown",
   "id": "21263c45-386c-4257-9e4d-855d0e9a9b1e",
   "metadata": {},
   "source": [
    "## Display Data As Is"
   ]
  },
  {
   "cell_type": "code",
   "execution_count": null,
   "id": "71a32193-a36d-42e9-ba56-cc4a5fddd3b7",
   "metadata": {
    "ExecuteTime": {
     "start_time": "2023-12-06T14:12:49.295070900Z"
    }
   },
   "outputs": [],
   "source": [
    "hist_boxplot(log(temp$'Java Linear Search Sorted'),col=colors[1],main=\"Linear Search Sorted - Java\")\n",
    "hist_boxplot(log(temp$'Java Linear Search Unsorted'),col=colors[2],main=\"Linear Search Unsorted - Java\")\n",
    "hist_boxplot(log(temp$'Java Linear Search Sorted'),col=colors[3],main=\"Binary Search Sorted - Java\")\n",
    "hist_boxplot(log(temp$'Python Linear Search Sorted'),col=colors[4],main=\"Linear Search Sorted - Python\")\n",
    "hist_boxplot(log(temp$'Python Linear Search Unsorted'),col=colors[5],main=\"Linear Search Unsorted - Python\")\n",
    "hist_boxplot(log(temp$'Python Binary Search Sorted'),col=colors[6],main=\"Binary Search Sorted - Python\")\n",
    "hist_boxplot(log(temp$`C++ Linear Search Sorted`),col=colors[7],main=\"Linear Search Sorted - C++\")\n",
    "hist_boxplot(log(temp$'C++ Linear Search Unsorted'),col=colors[8],main=\"Linear Search Unsorted - C++\")\n",
    "hist_boxplot(log(temp$'C++ Binary Search Sorted'),col=colors[9],main=\"Binary Search Sorted - C++\")\n",
    "\n",
    "plot(temp$`Run`,type = \"p\",col = colors[1], xlab = \"Run Number\", ylab = \"Runtime in log(nanoseconds)\", main = \"Runtime for different algorithms\", ylim=c(min(temp$'C++ Binary Search Sorted', na.rm = TRUE),max(temp$'Python Linear Search Sorted', na.rm = TRUE)))\n",
    "abline(h=mean(temp$'Java Linear Search Sorted',na.rm = TRUE),col = colors[1],lwd=3)\n",
    "lines(temp$'Java Linear Search Unsorted', type = \"p\", col = colors[2])\n",
    "abline(h=mean(temp$Java.Search.Unsorted),col = colors[2],lwd=3)\n",
    "lines(temp$'Java Linear Search Sorted', type = \"p\", col = colors[3])\n",
    "abline(h=mean(temp$'Java Linear Search Sorted'),col = colors[3],lwd=3)\n",
    "lines(temp$'Python Linear Search Sorted', type = \"p\", col = colors[4])\n",
    "abline(h=mean(temp$'Python Linear Search Sorted'),col = colors[4],lwd=3)\n",
    "lines(temp$'Python Linear Search Unsorted', type = \"p\", col = colors[5])\n",
    "abline(h=mean(temp$'Python Linear Search Unsorted'),col = colors[5],lwd=3)\n",
    "lines(temp$'Python Binary Search Sorted', type = \"p\", col = colors[6])\n",
    "abline(h=mean(temp$'Python Binary Search Sorted'),col = colors[6],lwd=3)\n",
    "lines(temp$`C++ Linear Search Sorted`, type = \"p\", col = colors[7])\n",
    "abline(h=mean(temp$`C++ Linear Search Sorted`),col = colors[7],lwd=3)\n",
    "lines(temp$'C++ Linear Search Unsorted', type = \"p\", col = colors[8])\n",
    "abline(h=mean(temp$'C++ Linear Search Unsorted'),col = colors[8],lwd=3)\n",
    "lines(temp$'C++ Binary Search Sorted', type = \"p\", col = colors[9])\n",
    "abline(h=mean(temp$'C++ Binary Search Sorted'),col = colors[9],lwd=3)\n",
    "legend(\"right\",c(\"Linear Search Sorted - Java\",\"Linear Search Unsorted - Java\",\"Binary Search Sorted - Java\", \"Linear Search Sorted - Python\",\"Linear Search Unsorted - Python\",\"Binary Search Sorted - Python\", \"Linear Search Sorted - C++\",\"Linear Search Unsorted - C++\",\"Binary Search Sorted - C++\"), lwd=c(5,2), col=colors, pch=c(15,19), y.intersp=1.5)"
   ]
  },
  {
   "cell_type": "markdown",
   "id": "1b8c532d-5550-4c8a-aab6-73d89f427f35",
   "metadata": {
    "tags": []
   },
   "source": [
    "## Calculate Outliers"
   ]
  },
  {
   "cell_type": "code",
   "execution_count": null,
   "id": "f4dd2e14-b555-455a-a895-5d79ea4fb4b3",
   "metadata": {
    "tags": [],
    "ExecuteTime": {
     "start_time": "2023-12-06T14:12:49.298069600Z"
    }
   },
   "outputs": [],
   "source": [
    "outliers <- boxplot(temp$`C++ Linear Search Sorted`, na.rm = TRUE)$out\n",
    "Linear.Search.Sorted.NoOutliers <- temp$`C++ Linear Search Sorted`[-which(temp$`C++ Linear Search Sorted` %in% outliers)]\n",
    "outliers <- boxplot(temp$'C++ Linear Search Unsorted', na.rm = TRUE)$out\n",
    "Linear.Search.Unsorted.NoOutliers <- temp$'C++ Linear Search Unsorted'[-which(temp$'C++ Linear Search Unsorted' %in% outliers)]\n",
    "outliers <- boxplot(temp$'C++ Binary Search Sorted', na.rm = TRUE)$out\n",
    "Binary.Search.Sorted.NoOutliers <- temp$'C++ Binary Search Sorted'[-which(temp$'C++ Binary Search Sorted' %in% outliers)]\n",
    "\n",
    "outliers <- boxplot(temp$'Java Linear Search Sorted', na.rm = TRUE)$out\n",
    "Java.Linear.Search.Sorted.NoOutliers <- temp$`Java Linear Search Sorted`[-which(temp$`Java Linear Search Sorted` %in% outliers)]\n",
    "outliers <- boxplot(temp$'Java Linear Search Unsorted', na.rm = TRUE)$out\n",
    "Java.Linear.Search.Unsorted.NoOutliers <- temp$'Java Linear Search Unsorted'[-which(temp$'Java Linear Search Unsorted' %in% outliers)]\n",
    "outliers <- boxplot(temp$'Java Linear Search Sorted', na.rm = TRUE)$out\n",
    "Java.Binary.Search.Sorted.NoOutliers <- temp$'Java Linear Search Sorted'[-which(temp$'Java Linear Search Sorted' %in% outliers)]\n",
    "\n",
    "outliers <- boxplot(temp$'Python Linear Search Sorted', na.rm = TRUE)$out\n",
    "Python.Linear.Search.Sorted.NoOutliers <- temp$'Python Linear Search Sorted'[-which(temp$'Python Linear Search Sorted' %in% outliers)]\n",
    "outliers <- boxplot(temp$'Python Linear Search Unsorted', na.rm = TRUE)$out\n",
    "Python.Linear.Search.Unsorted.NoOutliers <- temp$'Python Linear Search Unsorted'[-which(temp$'Python Linear Search Unsorted' %in% outliers)]\n",
    "outliers <- boxplot(temp$'Python Binary Search Sorted', na.rm = TRUE)$out\n",
    "Python.Binary.Search.Sorted.NoOutliers <- temp$'Python Binary Search Sorted'[-which(temp$'Python Binary Search Sorted' %in% outliers)]"
   ]
  },
  {
   "cell_type": "markdown",
   "id": "28bb97cb-7737-4c1d-b1d8-01af46cc4035",
   "metadata": {},
   "source": [
    "## Display Data Without Outliers"
   ]
  },
  {
   "cell_type": "code",
   "execution_count": 3,
   "id": "f2257c33-e5ef-42c0-96a4-5c2fb63f78b6",
   "metadata": {
    "ExecuteTime": {
     "start_time": "2023-12-06T14:12:49.315071200Z"
    }
   },
   "outputs": [
    {
     "ename": "SyntaxError",
     "evalue": "expression cannot contain assignment, perhaps you meant \"==\"? (2161175405.py, line 13)",
     "output_type": "error",
     "traceback": [
      "\u001B[1;36m  Cell \u001B[1;32mIn[3], line 13\u001B[1;36m\u001B[0m\n\u001B[1;33m    plot(Linear.Search.Sorted.NoOutliers,type = \"p\",col = colors[1], xlab = \"Run Number\", ylab = \"Runtime in log(nanoseconds)\", main = \"Runtime for different algorithms\", ylim=c(min(Binary.Search.Sorted.NoOutliers, na.rm=TRUE),max(Python.Linear.Search.Sorted.NoOutliers, na.rm=TRUE)))\u001B[0m\n\u001B[1;37m                                                                                                                                                                                                                       ^\u001B[0m\n\u001B[1;31mSyntaxError\u001B[0m\u001B[1;31m:\u001B[0m expression cannot contain assignment, perhaps you meant \"==\"?\n"
     ]
    }
   ],
   "source": [
    "hist_boxplot(Java.Linear.Search.Sorted.NoOutliers,col=colors[1],main=\"Linear Search Sorted No Outliers - Java\")\n",
    "hist_boxplot(Java.Linear.Search.Unsorted.NoOutliers,col=colors[2],main=\"Linear Search Unsorted No Outliers - Java\")\n",
    "hist_boxplot(Java.Binary.Search.Sorted.NoOutliers,col=colors[3],main=\"Binary Search Sorted No Outliers - Java\")\n",
    "\n",
    "hist_boxplot(Python.Linear.Search.Sorted.NoOutliers,col=colors[4],main=\"Linear Search Sorted No Outliers - Python \")\n",
    "hist_boxplot(Python.Linear.Search.Unsorted.NoOutliers,col=colors[5],main=\"Linear Search Unsorted No Outliers - Python\")\n",
    "hist_boxplot(Python.Binary.Search.Sorted.NoOutliers,col=colors[6],main=\"Binary Search Sorted No Outliers - Python\")\n",
    "\n",
    "hist_boxplot(Linear.Search.Sorted.NoOutliers,col=colors[7],main=\"Linear Search Sorted No Outliers - C++\")\n",
    "hist_boxplot(Linear.Search.Unsorted.NoOutliers,col=colors[8],main=\"Linear Search Unsorted No Outliers - C++\")\n",
    "hist_boxplot(Binary.Search.Sorted.NoOutliers,col=colors[9],main=\"Binary Search Sorted No Outliers - C++\")\n",
    "\n",
    "plot(Linear.Search.Sorted.NoOutliers,type = \"p\",col = colors[1], xlab = \"Run Number\", ylab = \"Runtime in log(nanoseconds)\", main = \"Runtime for different algorithms\", ylim=c(min(Binary.Search.Sorted.NoOutliers, na.rm=TRUE),max(Python.Linear.Search.Sorted.NoOutliers, na.rm=TRUE)))\n",
    "abline(h=mean(Java.Linear.Search.Sorted.NoOutliers),col = colors[1],lwd=3)\n",
    "lines(Java.Linear.Search.Unsorted.NoOutliers, type = \"p\", col = colors[2])\n",
    "abline(h=mean(Java.Linear.Search.Unsorted.NoOutliers),col = colors[2],lwd=3)\n",
    "lines(Java.Binary.Search.Sorted.NoOutliers, type = \"p\", col = colors[3])\n",
    "abline(h=mean(Java.Binary.Search.Sorted.NoOutliers),col = colors[3],lwd=3)\n",
    "lines(Python.Linear.Search.Sorted.NoOutliers, type = \"p\", col = colors[4])\n",
    "abline(h=mean(Python.Linear.Search.Sorted.NoOutliers),col = colors[4],lwd=3)\n",
    "lines(Python.Linear.Search.Unsorted.NoOutliers, type = \"p\", col = colors[5])\n",
    "abline(h=mean(Python.Linear.Search.Unsorted.NoOutliers),col = colors[5],lwd=3)\n",
    "lines(Python.Binary.Search.Sorted.NoOutliers, type = \"p\", col = colors[6])\n",
    "abline(h=mean(Python.Binary.Search.Sorted.NoOutliers),col = colors[6],lwd=3)\n",
    "lines(Linear.Search.Sorted.NoOutliers, type = \"p\", col = colors[7])\n",
    "abline(h=mean(Linear.Search.Sorted.NoOutliers),col = colors[7],lwd=3)\n",
    "lines(Linear.Search.Unsorted.NoOutliers, type = \"p\", col = colors[8])\n",
    "abline(h=mean(Linear.Search.Unsorted.NoOutliers),col = colors[8],lwd=3)\n",
    "lines(Binary.Search.Sorted.NoOutliers, type = \"p\", col = colors[9])\n",
    "abline(h=mean(Binary.Search.Sorted.NoOutliers),col = colors[9],lwd=3)\n",
    "legend(\"right\",c(\"Linear Search Sorted - Java\",\"Linear Search Unsorted - Java\",\"Binary Search Sorted - Java\", \"Linear Search Sorted - Python\",\"Linear Search Unsorted - Python\",\"Binary Search Sorted - Python\", \"Linear Search Sorted - C++\",\"Linear Search Unsorted - C++\",\"Binary Search Sorted - C++\"), lwd=c(5,2), col=colors, pch=c(15,19), y.intersp=1.5)\n",
    "\n",
    "plot(Java.Linear.Search.Sorted.NoOutliers,type = \"p\",col = colors[1], xlab = \"Run Number\", ylab = \"Runtime in log(nanoseconds)\", main = \"Runtime for different algorithms\", ylim=c(min(Binary.Search.Sorted.NoOutliers, na.rm=TRUE),max(Java.Linear.Search.Sorted.NoOutliers, na.rm=TRUE)))\n",
    "abline(h=mean(Java.Linear.Search.Sorted.NoOutliers),col = colors[1],lwd=3)\n",
    "lines(Java.Linear.Search.Unsorted.NoOutliers, type = \"p\", col = colors[2])\n",
    "abline(h=mean(Java.Linear.Search.Unsorted.NoOutliers),col = colors[2],lwd=3)\n",
    "lines(Java.Binary.Search.Sorted.NoOutliers, type = \"p\", col = colors[3])\n",
    "abline(h=mean(Java.Binary.Search.Sorted.NoOutliers),col = colors[3],lwd=3)\n",
    "lines(Linear.Search.Sorted.NoOutliers, type = \"p\", col = colors[7])\n",
    "abline(h=mean(Linear.Search.Sorted.NoOutliers),col = colors[7],lwd=3)\n",
    "lines(Linear.Search.Unsorted.NoOutliers, type = \"p\", col = colors[8])\n",
    "abline(h=mean(Linear.Search.Unsorted.NoOutliers),col = colors[8],lwd=3)\n",
    "lines(Binary.Search.Sorted.NoOutliers, type = \"p\", col = colors[9])\n",
    "abline(h=mean(Binary.Search.Sorted.NoOutliers),col = colors[9],lwd=3)\n",
    "legend(\"right\",c(\"Linear Search Sorted - Java\",\"Linear Search Unsorted - Java\",\"Binary Search Sorted - Java\",  \"Linear Search Sorted - C++\",\"Linear Search Unsorted - C++\",\"Binary Search Sorted - C++\"), lwd=c(5,2), col=c(colors[1],colors[2],colors[3],colors[7],colors[8],colors[9]), pch=c(15,19), y.intersp=1.5)\n",
    "\n",
    "plot(Linear.Search.Sorted.NoOutliers,type = \"p\",col = colors[7], xlab = \"Run Number\", ylab = \"Runtime in log(nanoseconds)\", main = \"Runtime for different algorithms\", ylim=c(min(Binary.Search.Sorted.NoOutliers, na.rm=TRUE),max(Linear.Search.Sorted.NoOutliers, na.rm=TRUE)))\n",
    "lines(Linear.Search.Sorted.NoOutliers, type = \"p\", col = colors[7])\n",
    "abline(h=mean(Linear.Search.Sorted.NoOutliers),col = colors[7],lwd=3)\n",
    "lines(Linear.Search.Unsorted.NoOutliers, type = \"p\", col = colors[8])\n",
    "abline(h=mean(Linear.Search.Unsorted.NoOutliers),col = colors[8],lwd=3)\n",
    "lines(Binary.Search.Sorted.NoOutliers, type = \"p\", col = colors[9])\n",
    "abline(h=mean(Binary.Search.Sorted.NoOutliers),col = colors[9],lwd=3)\n",
    "legend(\"right\",c(\"Linear Search Sorted - C++\",\"Linear Search Unsorted - C++\",\"Binary Search Sorted - C++\"), lwd=c(5,2), col=c(colors[7],colors[8],colors[9]), pch=c(15,19), y.intersp=1.5)\n",
    "\n",
    "plot(Java.Linear.Search.Sorted.NoOutliers,type = \"p\",col = colors[1], xlab = \"Run Number\", ylab = \"Runtime in log(nanoseconds)\", main = \"Runtime for different algorithms\", ylim=c(min(Java.Binary.Search.Sorted.NoOutliers, na.rm=TRUE),max(Java.Linear.Search.Sorted.NoOutliers, na.rm=TRUE)))\n",
    "abline(h=mean(Java.Linear.Search.Sorted.NoOutliers),col = colors[1],lwd=3)\n",
    "lines(Java.Linear.Search.Unsorted.NoOutliers, type = \"p\", col = colors[2])\n",
    "abline(h=mean(Java.Linear.Search.Unsorted.NoOutliers),col = colors[2],lwd=3)\n",
    "lines(Java.Binary.Search.Sorted.NoOutliers, type = \"p\", col = colors[3])\n",
    "abline(h=mean(Java.Binary.Search.Sorted.NoOutliers),col = colors[3],lwd=3)\n",
    "legend(\"right\",c(\"Linear Search Sorted - Java\",\"Linear Search Unsorted - Java\",\"Binary Search Sorted - Java\"), lwd=c(5,2), col=c(colors[1],colors[2],colors[3]), pch=c(15,19), y.intersp=1.5)\n",
    "\n",
    "plot(Python.Linear.Search.Sorted.NoOutliers,type = \"p\",col = colors[4], xlab = \"Run Number\", ylab = \"Runtime in log(nanoseconds)\", main = \"Runtime for different algorithms\", ylim=c(min(Python.Binary.Search.Sorted.NoOutliers, na.rm=TRUE),max(Python.Linear.Search.Sorted.NoOutliers, na.rm=TRUE)))\n",
    "lines(Python.Linear.Search.Sorted.NoOutliers, type = \"p\", col = colors[4])\n",
    "abline(h=mean(Python.Linear.Search.Sorted.NoOutliers),col = colors[4],lwd=3)\n",
    "lines(Python.Linear.Search.Unsorted.NoOutliers, type = \"p\", col = colors[5])\n",
    "abline(h=mean(Python.Linear.Search.Unsorted.NoOutliers),col = colors[5],lwd=3)\n",
    "lines(Python.Binary.Search.Sorted.NoOutliers, type = \"p\", col = colors[6])\n",
    "abline(h=mean(Python.Binary.Search.Sorted.NoOutliers),col = colors[6],lwd=3)\n",
    "legend(\"right\",c(\"Linear Search Sorted - Python\",\"Linear Search Unsorted - Python\",\"Binary Search Sorted - Python\"), lwd=c(5,2), col=c(colors[4],colors[5],colors[6]), pch=c(15,19), y.intersp=1.5)"
   ]
  },
  {
   "cell_type": "code",
   "execution_count": null,
   "outputs": [],
   "source": [],
   "metadata": {
    "collapsed": false,
    "ExecuteTime": {
     "end_time": "2023-12-06T14:12:49.470066700Z",
     "start_time": "2023-12-06T14:12:49.353068400Z"
    }
   },
   "id": "e84e4915bdd9282f"
  }
 ],
 "metadata": {
  "kernelspec": {
   "name": "python3",
   "language": "python",
   "display_name": "Python 3 (ipykernel)"
  },
  "language_info": {
   "codemirror_mode": "r",
   "file_extension": ".r",
   "mimetype": "text/x-r-source",
   "name": "R",
   "pygments_lexer": "r",
   "version": "3.6.1"
  }
 },
 "nbformat": 4,
 "nbformat_minor": 5
}
